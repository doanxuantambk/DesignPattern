{
 "cells": [
  {
   "cell_type": "code",
   "execution_count": 20,
   "metadata": {},
   "outputs": [],
   "source": [
    "def read_data(text, label, filename, polarity):\n",
    "    f = open(filename)\n",
    "    for line in f:\n",
    "        line = line.strip()\n",
    "        if line:\n",
    "            text.append(line)\n",
    "            label.append(polarity)\n",
    "    f.close()"
   ]
  },
  {
   "cell_type": "code",
   "execution_count": 21,
   "metadata": {},
   "outputs": [],
   "source": [
    "def tokenize(comment):\n",
    "    tokens = re.split('[.,!?; \\t]+', comment.strip())\n",
    "    items = []\n",
    "    for token in tokens:\n",
    "        if token:\n",
    "            items.append(token)\n",
    "    return items"
   ]
  },
  {
   "cell_type": "code",
   "execution_count": 22,
   "metadata": {},
   "outputs": [],
   "source": [
    "def update(text, data):\n",
    "    for comment in text:\n",
    "        items = []\n",
    "        for token in tokenize(comment):\n",
    "            token = token.lower()\n",
    "            if token not in token2idx:\n",
    "                token2idx[token] = len(token2idx)\n",
    "            items.append(token2idx[token])\n",
    "        data.append(items)"
   ]
  },
  {
   "cell_type": "code",
   "execution_count": 23,
   "metadata": {},
   "outputs": [],
   "source": [
    "import re\n",
    "\n",
    "train_text = []\n",
    "train_label = []\n",
    "train_data = []\n",
    "test_data = []\n",
    "test_text = []\n",
    "test_label = []\n",
    "token2idx = {}\n",
    "token2idx['PAD'] = 0;\n",
    "MAX_LENGTH = 100\n",
    "path = '/media/nguyen/Data/DSLab/2019/Proposals/Viettel-Telecom/MReset-MyViettel/Training/sa/dataset/'\n",
    "train_positive_path = path + 'SA_train_positive.txt'\n",
    "train_negative_path = path + 'SA_train_negative.txt'\n",
    "test_positive_path = path + 'SA_test_positive.txt'\n",
    "test_negative_path = path + 'SA_test_negative.txt'\n",
    "\n",
    "read_data(train_text, train_label, train_positive_path, 1)\n",
    "read_data(train_text, train_label, train_negative_path, 0)\n",
    "\n",
    "read_data(test_text, test_label, test_positive_path, 1)\n",
    "read_data(test_text, test_label, test_negative_path, 0)\n",
    "\n",
    "update(train_text, train_data)\n",
    "update(test_text, test_data)"
   ]
  },
  {
   "cell_type": "code",
   "execution_count": 24,
   "metadata": {},
   "outputs": [],
   "source": [
    "from keras.preprocessing import sequence\n",
    "train_data = sequence.pad_sequences(train_data, padding='post', maxlen=MAX_LENGTH)\n",
    "test_data = sequence.pad_sequences(test_data, padding='post', maxlen=MAX_LENGTH)"
   ]
  },
  {
   "cell_type": "code",
   "execution_count": 54,
   "metadata": {},
   "outputs": [
    {
     "name": "stdout",
     "output_type": "stream",
     "text": [
      "_________________________________________________________________\n",
      "Layer (type)                 Output Shape              Param #   \n",
      "=================================================================\n",
      "embedding_8 (Embedding)      (None, 100, 32)           189888    \n",
      "_________________________________________________________________\n",
      "conv1d_5 (Conv1D)            (None, 99, 32)            2080      \n",
      "_________________________________________________________________\n",
      "global_max_pooling1d_4 (Glob (None, 32)                0         \n",
      "_________________________________________________________________\n",
      "dense_8 (Dense)              (None, 1)                 33        \n",
      "=================================================================\n",
      "Total params: 192,001\n",
      "Trainable params: 192,001\n",
      "Non-trainable params: 0\n",
      "_________________________________________________________________\n"
     ]
    }
   ],
   "source": [
    "from keras import layers\n",
    "from keras import models\n",
    "\n",
    "V = len(token2idx)\n",
    "\n",
    "model = models.Sequential()\n",
    "model.add(layers.Embedding(V, 32, input_length=MAX_LENGTH))\n",
    "\n",
    "model.add(layers.Conv1D(32, 2, activation='relu'))\n",
    "model.add(layers.GlobalMaxPooling1D())\n",
    "\n",
    "# model.add(layers.Flatten())\n",
    "# model.add(layers.Dense(32, activation='sigmoid'))\n",
    "\n",
    "model.add(layers.Dense(1, activation='sigmoid'))\n",
    "\n",
    "model.summary()"
   ]
  },
  {
   "cell_type": "code",
   "execution_count": 55,
   "metadata": {},
   "outputs": [],
   "source": [
    "from keras import optimizers\n",
    "\n",
    "optimizer = optimizers.RMSprop(lr=0.001)\n",
    "\n",
    "model.compile(optimizer,\n",
    "             loss='binary_crossentropy',\n",
    "             metrics=['accuracy'])"
   ]
  },
  {
   "cell_type": "code",
   "execution_count": 56,
   "metadata": {},
   "outputs": [
    {
     "name": "stdout",
     "output_type": "stream",
     "text": [
      "Train on 2800 samples, validate on 599 samples\n",
      "Epoch 1/30\n",
      "2800/2800 [==============================] - 2s 670us/step - loss: 0.6818 - acc: 0.6182 - val_loss: 0.6653 - val_acc: 0.7262\n",
      "Epoch 2/30\n",
      "2800/2800 [==============================] - 1s 251us/step - loss: 0.6310 - acc: 0.7939 - val_loss: 0.5996 - val_acc: 0.7997\n",
      "Epoch 3/30\n",
      "2800/2800 [==============================] - 1s 234us/step - loss: 0.5463 - acc: 0.8154 - val_loss: 0.5190 - val_acc: 0.7980\n",
      "Epoch 4/30\n",
      "2800/2800 [==============================] - 1s 243us/step - loss: 0.4665 - acc: 0.8229 - val_loss: 0.4654 - val_acc: 0.8097\n",
      "Epoch 5/30\n",
      "2800/2800 [==============================] - 1s 250us/step - loss: 0.4011 - acc: 0.8393 - val_loss: 0.4314 - val_acc: 0.8230\n",
      "Epoch 6/30\n",
      "2800/2800 [==============================] - 1s 279us/step - loss: 0.3475 - acc: 0.8661 - val_loss: 0.4087 - val_acc: 0.8164\n",
      "Epoch 7/30\n",
      "2800/2800 [==============================] - 1s 281us/step - loss: 0.3021 - acc: 0.8836 - val_loss: 0.3952 - val_acc: 0.8214\n",
      "Epoch 8/30\n",
      "2800/2800 [==============================] - 1s 362us/step - loss: 0.2627 - acc: 0.9050 - val_loss: 0.3901 - val_acc: 0.8264\n",
      "Epoch 9/30\n",
      "2800/2800 [==============================] - 1s 262us/step - loss: 0.2284 - acc: 0.9171 - val_loss: 0.3837 - val_acc: 0.8247\n",
      "Epoch 10/30\n",
      "2800/2800 [==============================] - 1s 261us/step - loss: 0.1977 - acc: 0.9307 - val_loss: 0.3881 - val_acc: 0.8297\n",
      "Epoch 11/30\n",
      "2800/2800 [==============================] - 1s 290us/step - loss: 0.1716 - acc: 0.9432 - val_loss: 0.3942 - val_acc: 0.8280\n",
      "Epoch 12/30\n",
      "2800/2800 [==============================] - 1s 260us/step - loss: 0.1479 - acc: 0.9561 - val_loss: 0.4035 - val_acc: 0.8230\n",
      "Epoch 13/30\n",
      "2800/2800 [==============================] - 1s 252us/step - loss: 0.1281 - acc: 0.9621 - val_loss: 0.4173 - val_acc: 0.8180\n",
      "Epoch 14/30\n",
      "2800/2800 [==============================] - 1s 244us/step - loss: 0.1106 - acc: 0.9696 - val_loss: 0.4292 - val_acc: 0.8264\n",
      "Epoch 15/30\n",
      "2800/2800 [==============================] - 1s 248us/step - loss: 0.0965 - acc: 0.9739 - val_loss: 0.4429 - val_acc: 0.8280\n",
      "Epoch 16/30\n",
      "2800/2800 [==============================] - 1s 252us/step - loss: 0.0830 - acc: 0.9786 - val_loss: 0.4633 - val_acc: 0.8230\n",
      "Epoch 17/30\n",
      "2800/2800 [==============================] - 1s 256us/step - loss: 0.0718 - acc: 0.9811 - val_loss: 0.4782 - val_acc: 0.8247\n",
      "Epoch 18/30\n",
      "2800/2800 [==============================] - 1s 275us/step - loss: 0.0621 - acc: 0.9843 - val_loss: 0.5020 - val_acc: 0.8264\n",
      "Epoch 19/30\n",
      "2800/2800 [==============================] - 1s 259us/step - loss: 0.0535 - acc: 0.9882 - val_loss: 0.5240 - val_acc: 0.8214\n",
      "Epoch 20/30\n",
      "2800/2800 [==============================] - 1s 261us/step - loss: 0.0458 - acc: 0.9896 - val_loss: 0.5488 - val_acc: 0.8214\n",
      "Epoch 21/30\n",
      "2800/2800 [==============================] - 1s 256us/step - loss: 0.0396 - acc: 0.9911 - val_loss: 0.5688 - val_acc: 0.8214\n",
      "Epoch 22/30\n",
      "2800/2800 [==============================] - 1s 275us/step - loss: 0.0336 - acc: 0.9932 - val_loss: 0.5987 - val_acc: 0.8214\n",
      "Epoch 23/30\n",
      "2800/2800 [==============================] - 1s 259us/step - loss: 0.0287 - acc: 0.9932 - val_loss: 0.6234 - val_acc: 0.8230\n",
      "Epoch 24/30\n",
      "2800/2800 [==============================] - 1s 259us/step - loss: 0.0239 - acc: 0.9957 - val_loss: 0.6525 - val_acc: 0.8180\n",
      "Epoch 25/30\n",
      "2800/2800 [==============================] - 1s 250us/step - loss: 0.0203 - acc: 0.9950 - val_loss: 0.6831 - val_acc: 0.8080\n",
      "Epoch 26/30\n",
      "2800/2800 [==============================] - 1s 260us/step - loss: 0.0166 - acc: 0.9968 - val_loss: 0.7131 - val_acc: 0.8164\n",
      "Epoch 27/30\n",
      "2800/2800 [==============================] - 1s 272us/step - loss: 0.0141 - acc: 0.9968 - val_loss: 0.7350 - val_acc: 0.8114\n",
      "Epoch 28/30\n",
      "2800/2800 [==============================] - 1s 273us/step - loss: 0.0112 - acc: 0.9986 - val_loss: 0.7596 - val_acc: 0.8147\n",
      "Epoch 29/30\n",
      "2800/2800 [==============================] - 1s 259us/step - loss: 0.0089 - acc: 0.9993 - val_loss: 0.7924 - val_acc: 0.8080\n",
      "Epoch 30/30\n",
      "2800/2800 [==============================] - 1s 278us/step - loss: 0.0075 - acc: 0.9993 - val_loss: 0.8227 - val_acc: 0.8114\n"
     ]
    }
   ],
   "source": [
    "history = model.fit(\n",
    "    train_data, train_label,\n",
    "    shuffle=True,\n",
    "    epochs=30,\n",
    "    batch_size=64,\n",
    "    validation_data=[test_data, test_label])"
   ]
  },
  {
   "cell_type": "code",
   "execution_count": 57,
   "metadata": {},
   "outputs": [
    {
     "data": {
      "image/png": "[encoded data removed]",
      "text/plain": [
       "<Figure size 432x288 with 1 Axes>"
      ]
     },
     "metadata": {},
     "output_type": "display_data"
    }
   ],
   "source": [
    "import matplotlib.pyplot as plt\n",
    "history_dict = history.history\n",
    "loss_values = history_dict['loss']\n",
    "val_loss_values = history_dict['val_loss']\n",
    "epochs = range(1, len(loss_values) + 1)\n",
    "\n",
    "plt.plot(epochs, loss_values, 'bo', label='Training loss')\n",
    "plt.plot(epochs, val_loss_values, 'b', label='Validation loss')\n",
    "plt.title('Training and validation loss')\n",
    "plt.xlabel('Epochs')\n",
    "plt.ylabel('Loss')\n",
    "plt.legend()\n",
    "plt.show()"
   ]
  },
  {
   "cell_type": "code",
   "execution_count": 58,
   "metadata": {},
   "outputs": [
    {
     "data": {
      "image/png": "[encoded data removed]",
      "text/plain": [
       "<Figure size 432x288 with 1 Axes>"
      ]
     },
     "metadata": {},
     "output_type": "display_data"
    }
   ],
   "source": [
    "plt.clf()\n",
    "acc_values = history_dict['acc']\n",
    "val_acc_values = history_dict['val_acc']\n",
    "plt.plot(epochs, acc_values, 'bo', label='Training acc')\n",
    "plt.plot(epochs, val_acc_values, 'b', label='Validation acc')\n",
    "plt.title('Training and validation accuracy')\n",
    "plt.xlabel('Epochs')\n",
    "plt.ylabel('Loss')\n",
    "plt.legend()\n",
    "plt.show()"
   ]
  }
 ],
 "metadata": {
  "kernelspec": {
   "display_name": "Python 3",
   "language": "python",
   "name": "python3"
  },
  "language_info": {
   "codemirror_mode": {
    "name": "ipython",
    "version": 3
   },
   "file_extension": ".py",
   "mimetype": "text/x-python",
   "name": "python",
   "nbconvert_exporter": "python",
   "pygments_lexer": "ipython3",
   "version": "3.5.2"
  }
 },
 "nbformat": 4,
 "nbformat_minor": 2
}
